{
  "nbformat": 4,
  "nbformat_minor": 0,
  "metadata": {
    "colab": {
      "provenance": [],
      "authorship_tag": "ABX9TyNIBUsFJ+NqzTbeDiSurWc/",
      "include_colab_link": true
    },
    "kernelspec": {
      "name": "python3",
      "display_name": "Python 3"
    },
    "language_info": {
      "name": "python"
    }
  },
  "cells": [
    {
      "cell_type": "markdown",
      "metadata": {
        "id": "view-in-github",
        "colab_type": "text"
      },
      "source": [
        "<a href=\"https://colab.research.google.com/github/devikaajay/DS_Assignment_1/blob/main/Q_2_5.ipynb\" target=\"_parent\"><img src=\"https://colab.research.google.com/assets/colab-badge.svg\" alt=\"Open In Colab\"/></a>"
      ]
    },
    {
      "cell_type": "markdown",
      "source": [
        "2. Compute the 25th percentile (Q1), 50th percentile (Q2), and 75th percentile (Q3)\n",
        "for the dataset using both tools."
      ],
      "metadata": {
        "id": "4zguBHTiiV6S"
      }
    },
    {
      "cell_type": "code",
      "execution_count": 1,
      "metadata": {
        "id": "azTqJghtgkhX"
      },
      "outputs": [],
      "source": [
        "import numpy as np"
      ]
    },
    {
      "cell_type": "code",
      "source": [
        "data = [12, 15, 14, 10, 18, 20, 22, 24, 17, 19]"
      ],
      "metadata": {
        "id": "R54kXhrahGRW"
      },
      "execution_count": 2,
      "outputs": []
    },
    {
      "cell_type": "code",
      "source": [
        "sorted_data=sorted(data)\n",
        "print(\"Sorted Data:\", data)\n",
        "q1 = np.percentile(sorted_data, 25)\n",
        "q2 = np.percentile(sorted_data, 50)\n",
        "q3 = np.percentile(sorted_data, 75)\n",
        "print(\"25th Percentile (Q1):\",q1)\n",
        "print(\"50th Percentile (Q2):\",q2)\n",
        "print(\"75th Percentile (Q3):\",q3)"
      ],
      "metadata": {
        "colab": {
          "base_uri": "https://localhost:8080/"
        },
        "id": "3S0wsuOwhISc",
        "outputId": "2ae34366-be88-49d4-b12b-5869730bb78d"
      },
      "execution_count": 9,
      "outputs": [
        {
          "output_type": "stream",
          "name": "stdout",
          "text": [
            "Sorted Data: [10, 12, 14, 15, 17, 18, 19, 20, 22, 24]\n",
            "25th Percentile (Q1): 14.25\n",
            "50th Percentile (Q2): 17.5\n",
            "75th Percentile (Q3): 19.75\n"
          ]
        }
      ]
    },
    {
      "cell_type": "markdown",
      "source": [
        "3. Find the IQR for the given dataset and explain its significance"
      ],
      "metadata": {
        "id": "JIZam3LsihvT"
      }
    },
    {
      "cell_type": "code",
      "source": [
        "iqr = q3 - q1\n",
        "print(\"Interquartile Range (IQR):\", iqr)"
      ],
      "metadata": {
        "colab": {
          "base_uri": "https://localhost:8080/"
        },
        "id": "CbTkLXHwimBb",
        "outputId": "bf424af1-a0a7-4649-8eff-74780c305397"
      },
      "execution_count": 6,
      "outputs": [
        {
          "output_type": "stream",
          "name": "stdout",
          "text": [
            "Interquartile Range (IQR): 5.5\n"
          ]
        }
      ]
    },
    {
      "cell_type": "markdown",
      "source": [
        "4. Identify the minimum and maximum values from the dataset.\n"
      ],
      "metadata": {
        "id": "439ieHe5jffv"
      }
    },
    {
      "cell_type": "code",
      "source": [
        "minimum_value = min(data)\n",
        "maximum_value = max(data)\n",
        "print(\"Minimum Value:\", minimum_value)\n",
        "print(\"Maximum Value:\", maximum_value)"
      ],
      "metadata": {
        "colab": {
          "base_uri": "https://localhost:8080/"
        },
        "id": "uC8mDKf7jpAj",
        "outputId": "9581f043-02c7-499d-8260-f1b033760a81"
      },
      "execution_count": 8,
      "outputs": [
        {
          "output_type": "stream",
          "name": "stdout",
          "text": [
            "Minimum Value: 10\n",
            "Maximum Value: 24\n"
          ]
        }
      ]
    },
    {
      "cell_type": "markdown",
      "source": [
        "5. Finding Outliers Using Quartiles:\n",
        "\n",
        "● Compute the Lower Bound and Upper Bound.\n",
        "\n",
        "● Identify any outliers in the dataset."
      ],
      "metadata": {
        "id": "fyk29aJNkGPK"
      }
    },
    {
      "cell_type": "code",
      "source": [
        "lower_bound = q1 - 1.5 * iqr\n",
        "upper_bound = q3 + 1.5 * iqr\n",
        "print(\"Lower Bound:\", lower_bound)\n",
        "print(\"Upper Bound:\", upper_bound)"
      ],
      "metadata": {
        "colab": {
          "base_uri": "https://localhost:8080/"
        },
        "id": "FyFAUAcfkHfx",
        "outputId": "c074d523-0a54-48e0-ef34-aa927e454075"
      },
      "execution_count": 13,
      "outputs": [
        {
          "output_type": "stream",
          "name": "stdout",
          "text": [
            "Lower Bound: 6.0\n",
            "Upper Bound: 28.0\n"
          ]
        }
      ]
    },
    {
      "cell_type": "code",
      "source": [
        "outliers = []\n",
        "for value in data:\n",
        "    if value < lower_bound or value > upper_bound:\n",
        "        outliers.append(value)\n",
        "if outliers:\n",
        "    print(\"Outliers are :\",outliers)\n",
        "else:\n",
        "    print(\"\\nNo outliers found in the dataset.\")"
      ],
      "metadata": {
        "colab": {
          "base_uri": "https://localhost:8080/"
        },
        "id": "3OFMrnvElFBy",
        "outputId": "3df12135-2b10-41fa-8797-d9cf36465eef"
      },
      "execution_count": 15,
      "outputs": [
        {
          "output_type": "stream",
          "name": "stdout",
          "text": [
            "\n",
            "No outliers found in the dataset.\n"
          ]
        }
      ]
    }
  ]
}