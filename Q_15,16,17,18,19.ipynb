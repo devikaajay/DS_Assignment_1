{
  "nbformat": 4,
  "nbformat_minor": 0,
  "metadata": {
    "colab": {
      "provenance": [],
      "authorship_tag": "ABX9TyP+BOfwPDLGZG3PjAIeuB/F",
      "include_colab_link": true
    },
    "kernelspec": {
      "name": "python3",
      "display_name": "Python 3"
    },
    "language_info": {
      "name": "python"
    }
  },
  "cells": [
    {
      "cell_type": "markdown",
      "metadata": {
        "id": "view-in-github",
        "colab_type": "text"
      },
      "source": [
        "<a href=\"https://colab.research.google.com/github/devikaajay/DS_Assignment_1/blob/main/Q_15%2C16%2C17%2C18%2C19.ipynb\" target=\"_parent\"><img src=\"https://colab.research.google.com/assets/colab-badge.svg\" alt=\"Open In Colab\"/></a>"
      ]
    },
    {
      "cell_type": "markdown",
      "source": [
        "### Z-Test\n",
        "15. Given a sample mean of 25, population mean of 22, population standard deviation\n",
        "of 3, and sample size of 40, compute the Z-test statistic and interpret the results."
      ],
      "metadata": {
        "id": "jk77kN1IO98m"
      }
    },
    {
      "cell_type": "code",
      "source": [
        "import numpy as np\n",
        "import scipy.stats as stats"
      ],
      "metadata": {
        "id": "4x3PggpPPgYl"
      },
      "execution_count": 1,
      "outputs": []
    },
    {
      "cell_type": "code",
      "execution_count": 2,
      "metadata": {
        "colab": {
          "base_uri": "https://localhost:8080/"
        },
        "id": "YX-vY_H1EjTO",
        "outputId": "ceba12c5-ef83-43d4-dd9e-8f06694f1869"
      },
      "outputs": [
        {
          "output_type": "stream",
          "name": "stdout",
          "text": [
            "Z-test Statistic: 6.3246\n",
            "Critical Value (at α = 0.05): +/- 1.96\n",
            "Reject the null hypothesis: The sample mean is significantly different from the population mean.\n"
          ]
        }
      ],
      "source": [
        "samp_mean = 25\n",
        "pop_mean = 22\n",
        "pop_std = 3\n",
        "samp_size = 40\n",
        "z_statistic = (samp_mean - pop_mean) / (pop_std / np.sqrt(samp_size))\n",
        "\n",
        "print(f\"Z-test Statistic: {z_statistic:.4f}\")\n",
        "alpha = 0.05\n",
        "critical_value = stats.norm.ppf(1 - alpha / 2)\n",
        "print(f\"Critical Value (at α = {alpha}): +/- {critical_value:.2f}\")\n",
        "\n",
        "if abs(z_statistic) > critical_value:\n",
        "    print(\"Reject the null hypothesis: The sample mean is significantly different from the population mean.\")\n",
        "else:\n",
        "    print(\"Fail to reject the null hypothesis: There is no significant difference between the sample mean and the population mean.\")"
      ]
    },
    {
      "cell_type": "markdown",
      "source": [
        "###P-value Computation for Z-test\n",
        "16. Using a standard normal table, find the p-value corresponding to the Z-test statistic\n",
        "computed in the previous question and determine whether to reject the null\n",
        "hypothesis at α = 0.05."
      ],
      "metadata": {
        "id": "GJnbFBlLQdgM"
      }
    },
    {
      "cell_type": "code",
      "source": [
        "z_statistic = 6.3246\n",
        "p_value = 2 * (1 - stats.norm.cdf(abs(z_statistic)))  # Two-tailed test\n",
        "\n",
        "print(f\"Z-test Statistic: {z_statistic:.4f}\")\n",
        "print(f\"P-value: {p_value:.6f}\")"
      ],
      "metadata": {
        "colab": {
          "base_uri": "https://localhost:8080/"
        },
        "id": "1O6mTrPpQzKX",
        "outputId": "9ace95ab-05fb-48ec-e16d-6996f647b4fa"
      },
      "execution_count": 3,
      "outputs": [
        {
          "output_type": "stream",
          "name": "stdout",
          "text": [
            "Z-test Statistic: 6.3246\n",
            "P-value: 0.000000\n"
          ]
        }
      ]
    },
    {
      "cell_type": "markdown",
      "source": [
        "###One Sample T-test:\n",
        "17. Given a sample of data = [45, 50, 55, 60, 62, 48, 52], test whether the mean is\n",
        "significantly different from 50 using a one-sample t-test."
      ],
      "metadata": {
        "id": "2UQyZMkoQ_x3"
      }
    },
    {
      "cell_type": "code",
      "source": [
        "data = np.array([45, 50, 55, 60, 62, 48, 52])"
      ],
      "metadata": {
        "id": "z1l2rF9hRMbk"
      },
      "execution_count": 4,
      "outputs": []
    },
    {
      "cell_type": "code",
      "source": [
        "pop_mean = 50\n",
        "t_stat, p_val = stats.ttest_1samp(data, pop_mean)\n",
        "\n",
        "print(\"Sample Data:\", data)\n",
        "print(\"Testing Mean Against:\", pop_mean)\n",
        "print(\"T-statistic:\", round(t_stat, 2))\n",
        "print(\"P-value:\", round(p_val, 3))\n",
        "\n",
        "if p_val < 0.05:\n",
        "    print(\"It looks like the average in our sample is different from 50 (probably not by chance).\")\n",
        "else:\n",
        "    print(\"We don't have enough proof to say the average in our sample is different from 50.\")"
      ],
      "metadata": {
        "colab": {
          "base_uri": "https://localhost:8080/"
        },
        "id": "YNDc4jrYRVfc",
        "outputId": "005fa91c-bff3-4107-fba4-dea3091a5aac"
      },
      "execution_count": 7,
      "outputs": [
        {
          "output_type": "stream",
          "name": "stdout",
          "text": [
            "Sample Data: [45 50 55 60 62 48 52]\n",
            "Testing Mean Against: 50\n",
            "T-statistic: 1.33\n",
            "P-value: 0.23\n",
            "We don't have enough proof to say the average in our sample is different from 50.\n"
          ]
        }
      ]
    },
    {
      "cell_type": "markdown",
      "source": [
        "###Independent Sample T-test:\n",
        "18. Two groups of students took a math test. Their scores are:\n",
        "\n",
        "○ Group 1: [85, 90, 88, 92, 86]\n",
        "\n",
        "○ Group 2: [78, 75, 80, 83, 79]\n",
        "\n",
        "Perform an independent sample t-test to determine if there is a significant\n",
        "difference between the means"
      ],
      "metadata": {
        "id": "uYKy_L_eRt4K"
      }
    },
    {
      "cell_type": "code",
      "source": [
        "group1 = [85, 90, 88, 92, 86]\n",
        "group2 = [78, 75, 80, 83, 79]"
      ],
      "metadata": {
        "id": "ITwpw6hPR2BZ"
      },
      "execution_count": 9,
      "outputs": []
    },
    {
      "cell_type": "code",
      "source": [
        "t_stat, p_val = stats.ttest_ind(group1, group2)\n",
        "\n",
        "print(\"Scores Group 1:\", group1)\n",
        "print(\"Scores Group 2:\", group2)\n",
        "print(\"\\nComparing Averages:\")\n",
        "print(\"T-statistic:\", round(t_stat, 2))\n",
        "print(\"P-value:\", round(p_val, 3))\n",
        "\n",
        "# What does it mean?\n",
        "if p_val < 0.05:\n",
        "    print(\"\\nThe average scores of the two groups are likely different (not just by chance).\")\n",
        "else:\n",
        "    print(\"\\nWe can't really say for sure if the average scores are different based on this data.\")"
      ],
      "metadata": {
        "colab": {
          "base_uri": "https://localhost:8080/"
        },
        "id": "REsFgnJgSGQY",
        "outputId": "249e62c8-1f68-4568-c14a-21af8c368d96"
      },
      "execution_count": 10,
      "outputs": [
        {
          "output_type": "stream",
          "name": "stdout",
          "text": [
            "Scores Group 1: [85, 90, 88, 92, 86]\n",
            "Scores Group 2: [78, 75, 80, 83, 79]\n",
            "\n",
            "Comparing Averages:\n",
            "T-statistic: 5.03\n",
            "P-value: 0.001\n",
            "\n",
            "The average scores of the two groups are likely different (not just by chance).\n"
          ]
        }
      ]
    },
    {
      "cell_type": "markdown",
      "source": [
        "###Critical T-value Lookup:\n",
        "19. Using a t-table, find the critical t-value for α = 0.05 with degrees of freedom\n",
        "appropriate for question 18 and interpret the results"
      ],
      "metadata": {
        "id": "opqCSB1DStAy"
      }
    },
    {
      "cell_type": "code",
      "source": [
        "n1 = 5\n",
        "n2 = 5\n",
        "df = n1 + n2 - 2\n",
        "alpha = 0.05\n",
        "critical_t = stats.t.ppf(1 - alpha / 2, df)\n",
        "\n",
        "print(\"Degrees of Freedom:\", df)\n",
        "print(\"Our Risk Level (α):\", alpha)\n",
        "print(\"The 'too far' point (Critical T-value): +/-\", round(critical_t, 2))\n",
        "\n",
        "t_stat = 5.03\n",
        "print(\"\\nOur T-statistic:\", round(t_stat, 2))\n",
        "\n",
        "if abs(t_stat) > critical_t:\n",
        "    print(\"\\nOur T-statistic is beyond the 'too far' point.\")\n",
        "    print(\"So, the average scores of the two groups are likely different.\")\n",
        "else:\n",
        "    print(\"\\nOur T-statistic is not far enough to say the averages are different.\")\n"
      ],
      "metadata": {
        "colab": {
          "base_uri": "https://localhost:8080/"
        },
        "id": "cZ6g3CO4SzwF",
        "outputId": "551c8136-700b-4aa2-8fd9-7c327bb96d28"
      },
      "execution_count": 11,
      "outputs": [
        {
          "output_type": "stream",
          "name": "stdout",
          "text": [
            "Degrees of Freedom: 8\n",
            "Our Risk Level (α): 0.05\n",
            "The 'too far' point (Critical T-value): +/- 2.31\n",
            "\n",
            "Our T-statistic: 5.03\n",
            "\n",
            "Our T-statistic is beyond the 'too far' point.\n",
            "So, the average scores of the two groups are likely different.\n"
          ]
        }
      ]
    }
  ]
}