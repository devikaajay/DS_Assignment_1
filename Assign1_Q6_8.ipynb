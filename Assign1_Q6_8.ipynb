{
  "nbformat": 4,
  "nbformat_minor": 0,
  "metadata": {
    "colab": {
      "provenance": [],
      "authorship_tag": "ABX9TyOGdv0UZXPgEZylv45OQhQb",
      "include_colab_link": true
    },
    "kernelspec": {
      "name": "python3",
      "display_name": "Python 3"
    },
    "language_info": {
      "name": "python"
    }
  },
  "cells": [
    {
      "cell_type": "markdown",
      "metadata": {
        "id": "view-in-github",
        "colab_type": "text"
      },
      "source": [
        "<a href=\"https://colab.research.google.com/github/devikaajay/DS_Assignment_1/blob/main/Assign1_Q6_8.ipynb\" target=\"_parent\"><img src=\"https://colab.research.google.com/assets/colab-badge.svg\" alt=\"Open In Colab\"/></a>"
      ]
    },
    {
      "cell_type": "markdown",
      "source": [
        "6. Measures of Dispersion:\n",
        "● Compute the Range, Variance, and Standard Deviation using both Excel/Google\n",
        "Sheets/Python."
      ],
      "metadata": {
        "id": "0TrnrlUdluua"
      }
    },
    {
      "cell_type": "code",
      "execution_count": null,
      "metadata": {
        "id": "ahGlvPLPlrzu"
      },
      "outputs": [],
      "source": [
        "import numpy as np"
      ]
    },
    {
      "cell_type": "code",
      "source": [
        "data = [12, 15, 14, 10, 18, 20, 22, 24, 17, 19]"
      ],
      "metadata": {
        "id": "50HbK5enmJ8d"
      },
      "execution_count": null,
      "outputs": []
    },
    {
      "cell_type": "code",
      "source": [
        "minimum_value = min(data)\n",
        "maximum_value = max(data)\n",
        "range_value = maximum_value - minimum_value\n",
        "variance_value = np.var(data)\n",
        "std_dev = variance_value ** 0.5\n",
        "print(\"Range:\", range_value)\n",
        "print(\"Variance:\", variance_value)\n",
        "print(\"Standard Deviation:\", std_dev)"
      ],
      "metadata": {
        "colab": {
          "base_uri": "https://localhost:8080/"
        },
        "id": "tsYvH7SnmLDY",
        "outputId": "8f39098d-ece4-4ace-dcab-332053e20562"
      },
      "execution_count": 7,
      "outputs": [
        {
          "output_type": "stream",
          "name": "stdout",
          "text": [
            "Range: 14\n",
            "Variance: 17.49\n",
            "Standard Deviation: 4.182104733265296\n"
          ]
        }
      ]
    },
    {
      "cell_type": "markdown",
      "source": [
        "7. Z-score Standardization:\n",
        "● Compute the Z-scores for each value in the dataset and explain its significance in data standardization."
      ],
      "metadata": {
        "id": "fRWvh4b5n7DJ"
      }
    },
    {
      "cell_type": "code",
      "source": [
        "n = len(data)\n",
        "mean= np.mean(data)\n",
        "z_scores = []\n",
        "for value in data:\n",
        "    z_score = (value - mean) / std_dev\n",
        "    z_scores.append(z_score)\n",
        "print(\"Mean:\", mean)\n",
        "print(\"Standard Deviation:\", std_dev)\n",
        "print(\"\\nZ-scores for each value:\")\n",
        "for i in range(len(data)):\n",
        "    print(f\"{data[i]}: {z_scores[i]:.2f}\")"
      ],
      "metadata": {
        "colab": {
          "base_uri": "https://localhost:8080/"
        },
        "id": "06xp5LpLnSui",
        "outputId": "5bc4792e-33d3-4e8a-ca19-61b4b7d7a4a8"
      },
      "execution_count": 9,
      "outputs": [
        {
          "output_type": "stream",
          "name": "stdout",
          "text": [
            "Mean: 17.1\n",
            "Standard Deviation: 4.182104733265296\n",
            "\n",
            "Z-scores for each value:\n",
            "12: -1.22\n",
            "15: -0.50\n",
            "14: -0.74\n",
            "10: -1.70\n",
            "18: 0.22\n",
            "20: 0.69\n",
            "22: 1.17\n",
            "24: 1.65\n",
            "17: -0.02\n",
            "19: 0.45\n"
          ]
        }
      ]
    },
    {
      "cell_type": "markdown",
      "source": [
        "8. Correlation Coefficient:\n",
        "● Given two datasets x = [10, 20, 30, 40, 50] and y = [5, 10, 15, 20, 25], compute the Pearson correlation coefficient"
      ],
      "metadata": {
        "id": "8_FCtaNxoxGc"
      }
    },
    {
      "cell_type": "code",
      "source": [
        "import math"
      ],
      "metadata": {
        "id": "LW937p9ypzJn"
      },
      "execution_count": 10,
      "outputs": []
    },
    {
      "cell_type": "code",
      "source": [
        "x = [10, 20, 30, 40, 50]\n",
        "y = [5, 10, 15, 20, 25]\n",
        "m = len(x)\n",
        "n = len(y)\n",
        "mean_x = sum(x) / m\n",
        "mean_y = sum(y) / n\n",
        "num = 0\n",
        "for i in range(n):\n",
        "    num += (x[i] - mean_x) * (y[i] - mean_y)\n",
        "sum_sq_x = sum((xi - mean_x) ** 2 for xi in x)\n",
        "sum_sq_y = sum((yi - mean_y) ** 2 for yi in y)\n",
        "denominator = math.sqrt(sum_sq_x * sum_sq_y)\n",
        "\n",
        "if denominator == 0:\n",
        "    correlation_coefficient = 0\n",
        "else:\n",
        "    correlation_coefficient = num / denominator\n",
        "print(f\"Mean of x: {mean_x}\")\n",
        "print(f\"Mean of y: {mean_y}\")\n",
        "print(f\"Numerator: {num}\")\n",
        "print(f\"Denominator: {denominator}\")\n",
        "print(f\"Pearson Correlation Coefficient: {correlation_coefficient}\")"
      ],
      "metadata": {
        "colab": {
          "base_uri": "https://localhost:8080/"
        },
        "id": "NffbHNsPo4ht",
        "outputId": "22382ed1-e7ba-41b0-b82c-107801dc2314"
      },
      "execution_count": 12,
      "outputs": [
        {
          "output_type": "stream",
          "name": "stdout",
          "text": [
            "Mean of x: 30.0\n",
            "Mean of y: 15.0\n",
            "Numerator: 500.0\n",
            "Denominator: 500.0\n",
            "Pearson Correlation Coefficient: 1.0\n"
          ]
        }
      ]
    }
  ]
}