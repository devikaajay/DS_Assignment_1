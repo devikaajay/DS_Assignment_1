{
  "nbformat": 4,
  "nbformat_minor": 0,
  "metadata": {
    "colab": {
      "provenance": [],
      "authorship_tag": "ABX9TyNMJh8+8N8jAUMUeKcxWuUa",
      "include_colab_link": true
    },
    "kernelspec": {
      "name": "python3",
      "display_name": "Python 3"
    },
    "language_info": {
      "name": "python"
    }
  },
  "cells": [
    {
      "cell_type": "markdown",
      "metadata": {
        "id": "view-in-github",
        "colab_type": "text"
      },
      "source": [
        "<a href=\"https://colab.research.google.com/github/devikaajay/DS_Assignment_1/blob/main/Measures_of_Central_Tendency.ipynb\" target=\"_parent\"><img src=\"https://colab.research.google.com/assets/colab-badge.svg\" alt=\"Open In Colab\"/></a>"
      ]
    },
    {
      "cell_type": "markdown",
      "source": [
        "Given the dataset data = [12, 15, 14, 10, 18, 20, 22, 24, 17, 19]\n",
        "calculate the Mean, Median, and Mode using both Excel/Google Sheets/ Python."
      ],
      "metadata": {
        "id": "SdA4SWe9R3rx"
      }
    },
    {
      "cell_type": "code",
      "source": [
        "import numpy as np"
      ],
      "metadata": {
        "id": "-1FnCM8NZres"
      },
      "execution_count": null,
      "outputs": []
    },
    {
      "cell_type": "code",
      "execution_count": null,
      "metadata": {
        "id": "s2CqGk3XRgxw"
      },
      "outputs": [],
      "source": [
        "data = [12, 15, 14, 10, 18, 20, 22, 24, 17, 19]"
      ]
    },
    {
      "cell_type": "markdown",
      "source": [
        "Mean"
      ],
      "metadata": {
        "id": "5ZXgswS9R0dQ"
      }
    },
    {
      "cell_type": "code",
      "source": [
        "n=len(data)\n",
        "mean=sum(data)/n\n",
        "print(mean)"
      ],
      "metadata": {
        "id": "4gMrJhvuWaIF",
        "colab": {
          "base_uri": "https://localhost:8080/"
        },
        "outputId": "86871589-fe06-407b-cc48-fa055940880c"
      },
      "execution_count": null,
      "outputs": [
        {
          "output_type": "stream",
          "name": "stdout",
          "text": [
            "17.1\n"
          ]
        }
      ]
    },
    {
      "cell_type": "code",
      "source": [
        "x= np.mean(data)\n",
        "print(x)"
      ],
      "metadata": {
        "colab": {
          "base_uri": "https://localhost:8080/"
        },
        "id": "APLQ4CiwZpum",
        "outputId": "63ee1034-e252-405e-e61c-93f46ab21561"
      },
      "execution_count": null,
      "outputs": [
        {
          "output_type": "stream",
          "name": "stdout",
          "text": [
            "17.1\n"
          ]
        }
      ]
    },
    {
      "cell_type": "markdown",
      "source": [
        "Median"
      ],
      "metadata": {
        "id": "2wtGuGxLWakW"
      }
    },
    {
      "cell_type": "code",
      "source": [
        "data = sorted(data)\n",
        "print(data)\n",
        "n=len(data)\n",
        "if n % 2 == 0:\n",
        "  median = (data[n // 2 - 1] + data[n // 2]) / 2\n",
        "else:\n",
        "  median = data[n//2]\n",
        "print(median)"
      ],
      "metadata": {
        "colab": {
          "base_uri": "https://localhost:8080/"
        },
        "id": "xF6JsI49RxKl",
        "outputId": "b2c5646d-72d5-4cf3-aa80-abbbff49ac48"
      },
      "execution_count": null,
      "outputs": [
        {
          "output_type": "stream",
          "name": "stdout",
          "text": [
            "[10, 12, 14, 15, 17, 18, 19, 20, 22, 24]\n",
            "17.5\n"
          ]
        }
      ]
    },
    {
      "cell_type": "code",
      "source": [
        "x= np.median(data)\n",
        "print(x)"
      ],
      "metadata": {
        "colab": {
          "base_uri": "https://localhost:8080/"
        },
        "id": "7FAyVJprZ6sp",
        "outputId": "cb61eb84-3ac1-4425-c119-4518a2ac9fcd"
      },
      "execution_count": null,
      "outputs": [
        {
          "output_type": "stream",
          "name": "stdout",
          "text": [
            "17.5\n"
          ]
        }
      ]
    },
    {
      "cell_type": "markdown",
      "source": [
        "Mode"
      ],
      "metadata": {
        "id": "laJpZ9NHWdNj"
      }
    },
    {
      "cell_type": "code",
      "source": [
        "import statistics"
      ],
      "metadata": {
        "id": "cWqI5GSvbl--"
      },
      "execution_count": 28,
      "outputs": []
    },
    {
      "cell_type": "code",
      "source": [
        "from scipy import stats\n",
        "x= stats.mode(data)\n",
        "print(x)"
      ],
      "metadata": {
        "id": "qzLdSmxWWfS9",
        "colab": {
          "base_uri": "https://localhost:8080/"
        },
        "outputId": "98223bd3-a769-44f1-e6e1-41bf9395db69"
      },
      "execution_count": 29,
      "outputs": [
        {
          "output_type": "stream",
          "name": "stdout",
          "text": [
            "ModeResult(mode=np.int64(10), count=np.int64(1))\n"
          ]
        }
      ]
    }
  ]
}